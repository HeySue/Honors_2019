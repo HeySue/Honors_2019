{
 "cells": [
  {
   "cell_type": "markdown",
   "metadata": {},
   "source": [
    "# Quantile"
   ]
  },
  {
   "cell_type": "markdown",
   "metadata": {},
   "source": [
    "This file looks on quantiles without steaming data, the one-dimensional dataset for testing are randomly generated "
   ]
  },
  {
   "cell_type": "code",
   "execution_count": 3,
   "metadata": {},
   "outputs": [],
   "source": [
    "import numpy as np\n",
    "import pandas as pd"
   ]
  },
  {
   "cell_type": "code",
   "execution_count": 4,
   "metadata": {},
   "outputs": [],
   "source": [
    "dataset = np.random.randn(1000)"
   ]
  },
  {
   "cell_type": "markdown",
   "metadata": {},
   "source": [
    "### Definition\n",
    "For a population, of discrete values or for a continuous population density, the k-th q-quantile is the data value where the cumulative distribution function crosses k/q. That is, x is a $k$-th $q$-quantile for a variable $X$ if\n",
    "$$\n",
    "Pr[X \\leq x] \\leq \\frac{k}{q}\n",
    "$$\n",
    "\n",
    "Different methods for estimating quantiles:\n",
    "https://en.wikipedia.org/wiki/Quantile#Estimating_quantiles_from_a_sample\n"
   ]
  },
  {
   "cell_type": "code",
   "execution_count": 5,
   "metadata": {
    "scrolled": true
   },
   "outputs": [
    {
     "data": {
      "text/plain": [
       "9.5"
      ]
     },
     "execution_count": 5,
     "metadata": {},
     "output_type": "execute_result"
    }
   ],
   "source": [
    "a = np.array(np.arange(10) + 1)\n",
    "\n",
    "q = np.percentile(a, 95)\n",
    "\n",
    "q_lin  = np.percentile(a, 95, interpolation='linear')\n",
    "q_low  = np.percentile(a, 95, interpolation='lower')\n",
    "q_high = np.percentile(a, 95, interpolation='higher')\n",
    "q_near = np.percentile(a, 95, interpolation='nearest')\n",
    "q_mid  = np.percentile(a, 95, interpolation='midpoint')\n",
    "\n",
    "print ()"
   ]
  },
  {
   "cell_type": "markdown",
   "metadata": {},
   "source": [
    "### My Quantile"
   ]
  },
  {
   "cell_type": "code",
   "execution_count": null,
   "metadata": {},
   "outputs": [],
   "source": []
  }
 ],
 "metadata": {
  "kernelspec": {
   "display_name": "Python 3",
   "language": "python",
   "name": "python3"
  },
  "language_info": {
   "codemirror_mode": {
    "name": "ipython",
    "version": 3
   },
   "file_extension": ".py",
   "mimetype": "text/x-python",
   "name": "python",
   "nbconvert_exporter": "python",
   "pygments_lexer": "ipython3",
   "version": "3.6.4"
  }
 },
 "nbformat": 4,
 "nbformat_minor": 2
}
